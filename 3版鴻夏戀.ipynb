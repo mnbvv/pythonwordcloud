{
 "cells": [
  {
   "cell_type": "code",
   "execution_count": 1,
   "metadata": {},
   "outputs": [],
   "source": [
    "from sklearn.feature_extraction.text import TfidfVectorizer\n",
    "from sklearn.feature_extraction.text import CountVectorizer\n",
    "from sklearn.metrics.pairwise import cosine_similarity\n",
    "from func import *\n",
    "import jieba\n",
    "import re\n",
    "import os\n",
    "# re -> \\d for number, \\s for any space (\\t\\r\\n...)"
   ]
  },
  {
   "cell_type": "code",
   "execution_count": 2,
   "metadata": {},
   "outputs": [],
   "source": [
    "import numpy as np\n",
    "import pandas as pd\n",
    "import nltk\n",
    "import re\n",
    "import os\n",
    "import codecs\n",
    "from sklearn import feature_extraction\n",
    "import mpld3\n",
    "from PIL import Image"
   ]
  },
  {
   "cell_type": "code",
   "execution_count": 3,
   "metadata": {},
   "outputs": [],
   "source": [
    "from wordcloud import WordCloud\n",
    "import matplotlib.pyplot as plt\n",
    "import itertools as it\n",
    "\n",
    "import jieba\n",
    "import re\n",
    "import numpy as np\n",
    "from PIL import Image\n",
    "from func import *"
   ]
  },
  {
   "cell_type": "markdown",
   "metadata": {},
   "source": [
    "#### 讀取資料夾中的資料"
   ]
  },
  {
   "cell_type": "code",
   "execution_count": 4,
   "metadata": {},
   "outputs": [
    {
     "name": "stdout",
     "output_type": "stream",
     "text": [
      "\n",
      "Number of files : 1\n"
     ]
    }
   ],
   "source": [
    "path = 'C:/Users/User/Desktop/python playground/week5/first.txt'\n",
    "title, data = readdir(path, 0.6)"
   ]
  },
  {
   "cell_type": "markdown",
   "metadata": {},
   "source": [
    "#### 顯示部份資料內容"
   ]
  },
  {
   "cell_type": "code",
   "execution_count": 5,
   "metadata": {},
   "outputs": [
    {
     "name": "stdout",
     "output_type": "stream",
     "text": [
      "----Document : f----\n",
      "1\n",
      "...\n",
      "\n",
      "\n",
      "----Document : i----\n",
      ".\n",
      "...\n",
      "\n",
      "\n",
      "----Document : r----\n",
      "鴻\n",
      "...\n",
      "\n",
      "\n",
      "----Document : s----\n",
      "夏\n",
      "...\n",
      "\n",
      "\n",
      "----Document : t----\n",
      "戀\n",
      "...\n",
      "\n",
      "\n"
     ]
    },
    {
     "ename": "IndexError",
     "evalue": "string index out of range",
     "output_type": "error",
     "traceback": [
      "\u001b[1;31m---------------------------------------------------------------------------\u001b[0m",
      "\u001b[1;31mIndexError\u001b[0m                                Traceback (most recent call last)",
      "\u001b[1;32m<ipython-input-5-9f5222273976>\u001b[0m in \u001b[0;36m<module>\u001b[1;34m()\u001b[0m\n\u001b[0;32m      1\u001b[0m \u001b[1;32mfor\u001b[0m \u001b[0mi\u001b[0m \u001b[1;32min\u001b[0m \u001b[0mrange\u001b[0m\u001b[1;33m(\u001b[0m\u001b[0mlen\u001b[0m\u001b[1;33m(\u001b[0m\u001b[0mdata\u001b[0m\u001b[1;33m)\u001b[0m\u001b[1;33m)\u001b[0m\u001b[1;33m:\u001b[0m\u001b[1;33m\u001b[0m\u001b[0m\n\u001b[1;32m----> 2\u001b[1;33m     \u001b[0mprint\u001b[0m\u001b[1;33m(\u001b[0m\u001b[1;34m'----Document : {0}----'\u001b[0m\u001b[1;33m.\u001b[0m\u001b[0mformat\u001b[0m\u001b[1;33m(\u001b[0m\u001b[0mtitle\u001b[0m\u001b[1;33m[\u001b[0m\u001b[0mi\u001b[0m\u001b[1;33m]\u001b[0m\u001b[1;33m)\u001b[0m\u001b[1;33m)\u001b[0m\u001b[1;33m\u001b[0m\u001b[0m\n\u001b[0m\u001b[0;32m      3\u001b[0m     \u001b[0mprint\u001b[0m\u001b[1;33m(\u001b[0m\u001b[0mdata\u001b[0m\u001b[1;33m[\u001b[0m\u001b[0mi\u001b[0m\u001b[1;33m]\u001b[0m\u001b[1;33m[\u001b[0m\u001b[1;33m:\u001b[0m\u001b[1;36m50\u001b[0m\u001b[1;33m]\u001b[0m\u001b[1;33m,\u001b[0m \u001b[1;34m'...'\u001b[0m\u001b[1;33m,\u001b[0m \u001b[0mdata\u001b[0m\u001b[1;33m[\u001b[0m\u001b[0mi\u001b[0m\u001b[1;33m]\u001b[0m\u001b[1;33m[\u001b[0m\u001b[1;33m-\u001b[0m\u001b[1;36m50\u001b[0m\u001b[1;33m:\u001b[0m\u001b[1;33m-\u001b[0m\u001b[1;36m1\u001b[0m\u001b[1;33m]\u001b[0m\u001b[1;33m,\u001b[0m \u001b[0msep\u001b[0m\u001b[1;33m=\u001b[0m\u001b[1;34m'\\n'\u001b[0m\u001b[1;33m,\u001b[0m \u001b[0mend\u001b[0m\u001b[1;33m=\u001b[0m\u001b[1;34m'\\n\\n'\u001b[0m\u001b[1;33m)\u001b[0m\u001b[1;33m\u001b[0m\u001b[0m\n",
      "\u001b[1;31mIndexError\u001b[0m: string index out of range"
     ]
    }
   ],
   "source": [
    "for i in range(len(data)):\n",
    "    print('----Document : {0}----'.format(title[i]))\n",
    "    print(data[i][:50], '...', data[i][-50:-1], sep='\\n', end='\\n\\n')"
   ]
  },
  {
   "cell_type": "markdown",
   "metadata": {},
   "source": [
    "#### 新增詞彙至自定義詞庫，並匯入該詞庫"
   ]
  },
  {
   "cell_type": "code",
   "execution_count": null,
   "metadata": {},
   "outputs": [],
   "source": [
    "jieba.load_userdict('./dict.txt')"
   ]
  },
  {
   "cell_type": "markdown",
   "metadata": {},
   "source": [
    "#### 顯示部分資料內容"
   ]
  },
  {
   "cell_type": "markdown",
   "metadata": {},
   "source": [
    "#### 新增詞彙至自定義詞庫，並匯入該詞庫"
   ]
  },
  {
   "cell_type": "code",
   "execution_count": null,
   "metadata": {},
   "outputs": [],
   "source": [
    "jieba.load_userdict('./dict.txt')"
   ]
  },
  {
   "cell_type": "code",
   "execution_count": null,
   "metadata": {},
   "outputs": [],
   "source": [
    "stopwords = ['一','二','三','四','五','六','用','淨','利','值','但','中','可','認','我','無','彙',\n",
    "             '列','將','對','之','率','已','由','佔','本','日','月','年','另','故','於','較',\n",
    "             '請','再','經','也','在','依','到','等','或','認列','為','按','比','仍','係','後','及',\n",
    "             '與','以','時','該','的','並','更','註','例如','可能','由於','因此','附註','部分','事項',\n",
    "             '各位','晶華','品牌','集團','幅度','資產','新','台幣','營業','受到','提供','使用','本年',\n",
    "             '說明','現金','成本','營業外','收入','結轉','分攤','其他','影響','帳金額','本會','計師',\n",
    "             '之會計','報表','會計師','財務','詳合','結果','預測','如下','之一','附註','附','註','其中',\n",
    "             '併','合','因為','查核','報告','性事','增加','會計','相對','仟元','金額','權益','能力',\n",
    "             '利益','股東','合理性','假設','無形','上','開關鍵','模型','支出','控制','計算','資金',\n",
    "             '評估','報告','因應','仟元','金額','權益','假設','無形','上','模型','支出','控制','計算',\n",
    "             '資金','評估','人次','重大','資訊','總額','民國','估計','','一副','公司','年度','包括',\n",
    "             '正確性','正','確性','減損','共為','預估','預算','維持','公開','整體','表示','特性','市場',\n",
    "             '科目','發生','年本','重要','判斷','主要','流量','意見','關鍵','同期','評價','正確','地區',\n",
    "             '總資產','執行','程序','測試','稅後淨利','股份有限公司']\n",
    "puncs_Full = '！？｡＂＃＄％＆＇（）()＊＋，－／：；＜＝＞＠［＼］$＾＿｀｛｜｝～｟｠｢｣､、〃》「」『』【】〔〕〖〗〘〙〚〛〜〝〞〟〰〾〿–—‘’‛“”„‟…‧﹏.。'\n",
    "puncs_Half = \"!?.#$%&'()*+,-/:;<=>@[]^_{}|~\\\\\\\"\"\n",
    "savetofile('./stopword.txt', [stopwords])"
   ]
  },
  {
   "cell_type": "code",
   "execution_count": null,
   "metadata": {},
   "outputs": [],
   "source": [
    "stopword = readdir('./stopword.txt')[1].split('\\n')"
   ]
  },
  {
   "cell_type": "markdown",
   "metadata": {},
   "source": [
    "#### 利用 jieba 對文件進行斷字，並統計字詞頻率，顯示前十名資料"
   ]
  },
  {
   "cell_type": "code",
   "execution_count": null,
   "metadata": {},
   "outputs": [],
   "source": [
    "wordDictionary = []\n",
    "for i in range(len(data)):\n",
    "    seg_list = jieba.cut(data[i], cut_all=False)\n",
    "    seg_list = list(seg_list)\n",
    "    wordDict = {}\n",
    "    for w in seg_list:\n",
    "        if (w not in stopword) and (w not in puncs_Full) and (w not in puncs_Half):\n",
    "            if w in wordDict:\n",
    "                wordDict[w] = wordDict[w] + 1\n",
    "            else:\n",
    "                wordDict[w] = 1\n",
    "    wordDictionary.append(wordDict)\n",
    "    print('Number of word in document ({0}) : '.format(title[i]), len(wordDict))\n",
    "    sort = sorted(wordDict.items(), key=lambda x: x[1], reverse = True)\n",
    "    print(sort[0:10])\n",
    "    data[i] = ' '.join(jieba.cut(data[i], cut_all=False))"
   ]
  },
  {
   "cell_type": "markdown",
   "metadata": {},
   "source": [
    "#### 顯示各文件低於閥值 (limit) 的字詞"
   ]
  },
  {
   "cell_type": "code",
   "execution_count": null,
   "metadata": {},
   "outputs": [],
   "source": [
    "limit = 50\n",
    "wordsperdocument = 50\n",
    "for i in range(len(data)):\n",
    "    count = 0\n",
    "    print('----Document : {0}----'.format(title[i]))\n",
    "    for ind, value in wordDictionary[0].items():\n",
    "        if (value <= limit) & (count != wordsperdocument):\n",
    "            count += 1\n",
    "            print(ind, end = ', ')\n",
    "    print()"
   ]
  },
  {
   "cell_type": "markdown",
   "metadata": {},
   "source": [
    "#### 利用 wordDictionary 移除只出現一次的字詞，並顯示部份結果"
   ]
  },
  {
   "cell_type": "code",
   "execution_count": null,
   "metadata": {},
   "outputs": [],
   "source": [
    "for i in range(len(data)):\n",
    "    for key, value in wordDictionary[0].items():\n",
    "        if value <= limit:\n",
    "            data[i] = data[i].replace(key, '')\n",
    "    print('document :', title[i])\n",
    "    print(data[i][:50], '...', data[i][-50:-1], sep='', end='\\n\\n')"
   ]
  },
  {
   "cell_type": "markdown",
   "metadata": {},
   "source": [
    "#### 移除所有標點符號、非中文英文數字之資料"
   ]
  },
  {
   "cell_type": "code",
   "execution_count": null,
   "metadata": {},
   "outputs": [],
   "source": [
    "for i in range(len(data)):\n",
    "    data[i] = re.sub('[^\\u4e00-\\u9fff ]', '', data[i])\n",
    "#[^\\u4e00-\\u9fff A-Za-z0-9]"
   ]
  },
  {
   "cell_type": "markdown",
   "metadata": {},
   "source": [
    "#### 印出部份斷字結果"
   ]
  },
  {
   "cell_type": "code",
   "execution_count": null,
   "metadata": {},
   "outputs": [],
   "source": [
    "for i in range(len(data)):\n",
    "    print('document :', title[i])\n",
    "    print(data[i][:20], ' ... ', data[i][-20:-1], sep='', end='\\n\\n')"
   ]
  },
  {
   "cell_type": "markdown",
   "metadata": {},
   "source": [
    "#### 初始化 TFIDF 物件"
   ]
  },
  {
   "cell_type": "code",
   "execution_count": null,
   "metadata": {},
   "outputs": [],
   "source": [
    "tfidf_vectorizer = TfidfVectorizer(min_df=0.3, analyzer = 'word', stop_words = stopword)\n",
    "#tfidf_vectorizer = CountVectorizer(stop_words = stopword)"
   ]
  },
  {
   "cell_type": "markdown",
   "metadata": {},
   "source": [
    "#### 顯示初始化時輸入的停止詞彙"
   ]
  },
  {
   "cell_type": "code",
   "execution_count": null,
   "metadata": {},
   "outputs": [],
   "source": [
    "print(tfidf_vectorizer.get_stop_words())"
   ]
  },
  {
   "cell_type": "markdown",
   "metadata": {},
   "source": [
    "#### 計算 TFIDF 詞頻矩陣"
   ]
  },
  {
   "cell_type": "code",
   "execution_count": null,
   "metadata": {},
   "outputs": [],
   "source": [
    "tfidf_matrix = tfidf_vectorizer.fit_transform(data)"
   ]
  },
  {
   "cell_type": "markdown",
   "metadata": {},
   "source": [
    "#### 顯示詞頻矩陣大小"
   ]
  },
  {
   "cell_type": "code",
   "execution_count": null,
   "metadata": {},
   "outputs": [],
   "source": [
    "tfidf_matrix.shape"
   ]
  },
  {
   "cell_type": "markdown",
   "metadata": {},
   "source": [
    "#### 顯示部份詞頻矩陣中的字詞"
   ]
  },
  {
   "cell_type": "code",
   "execution_count": null,
   "metadata": {},
   "outputs": [],
   "source": [
    "words = tfidf_vectorizer.get_feature_names()\n",
    "print(words[0:50])"
   ]
  },
  {
   "cell_type": "code",
   "execution_count": null,
   "metadata": {},
   "outputs": [],
   "source": [
    "for i in range(len(data)):\n",
    "    print('----Document : {0}----'.format(title[i]))\n",
    "    for j in range(len(words)):\n",
    "        if tfidf_matrix[i,j] > 0.2:\n",
    "              print(words[j], tfidf_matrix[i,j])"
   ]
  },
  {
   "cell_type": "code",
   "execution_count": null,
   "metadata": {},
   "outputs": [],
   "source": [
    "dist = cosine_similarity(tfidf_matrix)\n",
    "print(dist)"
   ]
  },
  {
   "cell_type": "code",
   "execution_count": null,
   "metadata": {},
   "outputs": [],
   "source": [
    "font = r\"C:\\Windows\\Fonts\\Microsoft JhengHei UI\\msjh.ttc\"\n",
    "alice_mask = np.array(Image.open(\"week4/cloudy.png\"))\n",
    "wordcloud = WordCloud(font_path=font,background_color=\"white\", mask=alice_mask)\n",
    "wordcloud.fit_words(wordDict)\n",
    "plt.figure(figsize=(15,10))\n",
    "plt.imshow(wordcloud)\n",
    "plt.savefig(\"week5/first.png\")"
   ]
  },
  {
   "cell_type": "code",
   "execution_count": null,
   "metadata": {},
   "outputs": [],
   "source": []
  }
 ],
 "metadata": {
  "kernelspec": {
   "display_name": "Python 3",
   "language": "python",
   "name": "python3"
  },
  "language_info": {
   "codemirror_mode": {
    "name": "ipython",
    "version": 3
   },
   "file_extension": ".py",
   "mimetype": "text/x-python",
   "name": "python",
   "nbconvert_exporter": "python",
   "pygments_lexer": "ipython3",
   "version": "3.6.5"
  }
 },
 "nbformat": 4,
 "nbformat_minor": 2
}
